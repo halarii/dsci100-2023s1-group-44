{
 "cells": [
  {
   "cell_type": "markdown",
   "id": "f6357141-f31f-4881-82b0-8642af5d84bd",
   "metadata": {},
   "source": [
    "INSERT INTRO HERE"
   ]
  },
  {
   "cell_type": "code",
   "execution_count": 1,
   "id": "295b6168-d9b1-4139-93c5-a4ef734d83cc",
   "metadata": {},
   "outputs": [
    {
     "name": "stderr",
     "output_type": "stream",
     "text": [
      "── \u001b[1mAttaching packages\u001b[22m ─────────────────────────────────────── tidyverse 1.3.1 ──\n",
      "\n",
      "\u001b[32m✔\u001b[39m \u001b[34mggplot2\u001b[39m 3.3.6     \u001b[32m✔\u001b[39m \u001b[34mpurrr  \u001b[39m 0.3.4\n",
      "\u001b[32m✔\u001b[39m \u001b[34mtibble \u001b[39m 3.1.7     \u001b[32m✔\u001b[39m \u001b[34mdplyr  \u001b[39m 1.0.9\n",
      "\u001b[32m✔\u001b[39m \u001b[34mtidyr  \u001b[39m 1.2.0     \u001b[32m✔\u001b[39m \u001b[34mstringr\u001b[39m 1.4.0\n",
      "\u001b[32m✔\u001b[39m \u001b[34mreadr  \u001b[39m 2.1.2     \u001b[32m✔\u001b[39m \u001b[34mforcats\u001b[39m 0.5.1\n",
      "\n",
      "── \u001b[1mConflicts\u001b[22m ────────────────────────────────────────── tidyverse_conflicts() ──\n",
      "\u001b[31m✖\u001b[39m \u001b[34mdplyr\u001b[39m::\u001b[32mfilter()\u001b[39m masks \u001b[34mstats\u001b[39m::filter()\n",
      "\u001b[31m✖\u001b[39m \u001b[34mdplyr\u001b[39m::\u001b[32mlag()\u001b[39m    masks \u001b[34mstats\u001b[39m::lag()\n",
      "\n",
      "── \u001b[1mAttaching packages\u001b[22m ────────────────────────────────────── tidymodels 1.0.0 ──\n",
      "\n",
      "\u001b[32m✔\u001b[39m \u001b[34mbroom       \u001b[39m 1.0.0     \u001b[32m✔\u001b[39m \u001b[34mrsample     \u001b[39m 1.0.0\n",
      "\u001b[32m✔\u001b[39m \u001b[34mdials       \u001b[39m 1.0.0     \u001b[32m✔\u001b[39m \u001b[34mtune        \u001b[39m 1.0.0\n",
      "\u001b[32m✔\u001b[39m \u001b[34minfer       \u001b[39m 1.0.2     \u001b[32m✔\u001b[39m \u001b[34mworkflows   \u001b[39m 1.0.0\n",
      "\u001b[32m✔\u001b[39m \u001b[34mmodeldata   \u001b[39m 1.0.0     \u001b[32m✔\u001b[39m \u001b[34mworkflowsets\u001b[39m 1.0.0\n",
      "\u001b[32m✔\u001b[39m \u001b[34mparsnip     \u001b[39m 1.0.0     \u001b[32m✔\u001b[39m \u001b[34myardstick   \u001b[39m 1.0.0\n",
      "\u001b[32m✔\u001b[39m \u001b[34mrecipes     \u001b[39m 1.0.1     \n",
      "\n",
      "── \u001b[1mConflicts\u001b[22m ───────────────────────────────────────── tidymodels_conflicts() ──\n",
      "\u001b[31m✖\u001b[39m \u001b[34mscales\u001b[39m::\u001b[32mdiscard()\u001b[39m masks \u001b[34mpurrr\u001b[39m::discard()\n",
      "\u001b[31m✖\u001b[39m \u001b[34mdplyr\u001b[39m::\u001b[32mfilter()\u001b[39m   masks \u001b[34mstats\u001b[39m::filter()\n",
      "\u001b[31m✖\u001b[39m \u001b[34mrecipes\u001b[39m::\u001b[32mfixed()\u001b[39m  masks \u001b[34mstringr\u001b[39m::fixed()\n",
      "\u001b[31m✖\u001b[39m \u001b[34mdplyr\u001b[39m::\u001b[32mlag()\u001b[39m      masks \u001b[34mstats\u001b[39m::lag()\n",
      "\u001b[31m✖\u001b[39m \u001b[34myardstick\u001b[39m::\u001b[32mspec()\u001b[39m masks \u001b[34mreadr\u001b[39m::spec()\n",
      "\u001b[31m✖\u001b[39m \u001b[34mrecipes\u001b[39m::\u001b[32mstep()\u001b[39m   masks \u001b[34mstats\u001b[39m::step()\n",
      "\u001b[34m•\u001b[39m Learn how to get started at \u001b[32mhttps://www.tidymodels.org/start/\u001b[39m\n",
      "\n",
      "\u001b[1mRows: \u001b[22m\u001b[34m220567\u001b[39m \u001b[1mColumns: \u001b[22m\u001b[34m29\u001b[39m\n",
      "\u001b[36m──\u001b[39m \u001b[1mColumn specification\u001b[22m \u001b[36m────────────────────────────────────────────────────────\u001b[39m\n",
      "\u001b[1mDelimiter:\u001b[22m \";\"\n",
      "\u001b[31mchr\u001b[39m (19): PID, LEGAL_TYPE, FOLIO, LAND_COORDINATE, ZONING_DISTRICT, ZONING_C...\n",
      "\u001b[32mdbl\u001b[39m (10): TO_CIVIC_NUMBER, CURRENT_LAND_VALUE, CURRENT_IMPROVEMENT_VALUE, TA...\n",
      "\n",
      "\u001b[36mℹ\u001b[39m Use `spec()` to retrieve the full column specification for this data.\n",
      "\u001b[36mℹ\u001b[39m Specify the column types or set `show_col_types = FALSE` to quiet this message.\n",
      "\u001b[1mRows: \u001b[22m\u001b[34m100165\u001b[39m \u001b[1mColumns: \u001b[22m\u001b[34m6\u001b[39m\n",
      "\u001b[36m──\u001b[39m \u001b[1mColumn specification\u001b[22m \u001b[36m────────────────────────────────────────────────────────\u001b[39m\n",
      "\u001b[1mDelimiter:\u001b[22m \";\"\n",
      "\u001b[31mchr\u001b[39m (5): STREETNAME, TAX_COORD, SITE_ID, Geom, geo_point_2d\n",
      "\u001b[32mdbl\u001b[39m (1): CIVIC_NUMBER\n",
      "\n",
      "\u001b[36mℹ\u001b[39m Use `spec()` to retrieve the full column specification for this data.\n",
      "\u001b[36mℹ\u001b[39m Specify the column types or set `show_col_types = FALSE` to quiet this message.\n"
     ]
    }
   ],
   "source": [
    "library(tidyverse)\n",
    "library(tidymodels)\n",
    "\n",
    "#setting seed\n",
    "set.seed(9876)\n",
    "\n",
    "## 2023 CoV Property Tax Report Dataset\n",
    "ptax_url <- \"https://opendata.vancouver.ca/api/explore/v2.1/catalog/datasets/property-tax-report/exports/csv?lang=en&refine=report_year%3A%222023%22&timezone=America%2FLos_Angeles&use_labels=true&delimiter=%3B\"\n",
    "ptax_df <- read_delim(ptax_url, delim = \";\") |>\n",
    "            # Select relevant features for analysis\n",
    "            select(LEGAL_TYPE,\n",
    "                   LAND_COORDINATE, \n",
    "                   ZONING_CLASSIFICATION,\n",
    "                   CURRENT_LAND_VALUE,\n",
    "                   CURRENT_IMPROVEMENT_VALUE,\n",
    "                   YEAR_BUILT,\n",
    "                   BIG_IMPROVEMENT_YEAR,\n",
    "                   TAX_LEVY)\n",
    "\n",
    "## CoV Property Parcel Polygons Dataset\n",
    "# For use with 2023 CoV Property Tax Report Dataset to merge geographic location values\n",
    "\n",
    "parcel_url <- \"https://opendata.vancouver.ca/api/explore/v2.1/catalog/datasets/property-parcel-polygons/exports/csv?lang=en&timezone=America%2FLos_Angeles&use_labels=true&delimiter=%3B\"\n",
    "parcel_df <- read_delim(parcel_url, delim = \";\") |>\n",
    "            # Select relevant features for analysis\n",
    "            select(TAX_COORD, geo_point_2d) |>\n",
    "            rename(LAND_COORDINATE = TAX_COORD)\n",
    "\n",
    "# Merge CoV Property Parcel Polygons Dataset to attain geographic (lat,long) location of property\n",
    "ptax_parcel_merged <- inner_join(ptax_df, parcel_df, by = \"LAND_COORDINATE\", relationship = \"many-to-many\") |>\n",
    "# Separate (lat,long) into respective columns\n",
    "            separate(col = geo_point_2d,\n",
    "                     into = c(\"lat\", \"long\"),\n",
    "                     sep = \",\")"
   ]
  },
  {
   "cell_type": "code",
   "execution_count": 10,
   "id": "09536fd1-4cd4-4f50-a6ad-6e8ee29aef4d",
   "metadata": {},
   "outputs": [
    {
     "data": {
      "text/html": [
       "<table class=\"dataframe\">\n",
       "<caption>A tibble: 6 × 10</caption>\n",
       "<thead>\n",
       "\t<tr><th scope=col>LEGAL_TYPE</th><th scope=col>LAND_COORDINATE</th><th scope=col>ZONING_CLASSIFICATION</th><th scope=col>CURRENT_LAND_VALUE</th><th scope=col>CURRENT_IMPROVEMENT_VALUE</th><th scope=col>YEAR_BUILT</th><th scope=col>BIG_IMPROVEMENT_YEAR</th><th scope=col>TAX_LEVY</th><th scope=col>lat</th><th scope=col>long</th></tr>\n",
       "\t<tr><th scope=col>&lt;chr&gt;</th><th scope=col>&lt;chr&gt;</th><th scope=col>&lt;chr&gt;</th><th scope=col>&lt;dbl&gt;</th><th scope=col>&lt;dbl&gt;</th><th scope=col>&lt;dbl&gt;</th><th scope=col>&lt;dbl&gt;</th><th scope=col>&lt;dbl&gt;</th><th scope=col>&lt;chr&gt;</th><th scope=col>&lt;chr&gt;</th></tr>\n",
       "</thead>\n",
       "<tbody>\n",
       "\t<tr><td>STRATA</td><td>77019103</td><td>Commercial               </td><td>496282</td><td>240000</td><td>1996</td><td>1996</td><td>2047.38</td><td>49.26333024794667 </td><td> -123.09938095630145</td></tr>\n",
       "\t<tr><td>STRATA</td><td>59623596</td><td>Multiple Dwelling        </td><td>553000</td><td> 49800</td><td>1977</td><td>1977</td><td>1676.20</td><td>49.27822295440411 </td><td> -123.07086779777211</td></tr>\n",
       "\t<tr><td>STRATA</td><td>59225072</td><td>Multiple Dwelling        </td><td>280000</td><td> 40800</td><td>1981</td><td>1981</td><td> 892.04</td><td>49.28000735957126 </td><td> -123.06899069724635</td></tr>\n",
       "\t<tr><td>STRATA</td><td>59711728</td><td>Comprehensive Development</td><td>610000</td><td>277000</td><td>1995</td><td>1995</td><td>2466.49</td><td>49.28823994952549 </td><td> -123.12534105465522</td></tr>\n",
       "\t<tr><td>STRATA</td><td>57917821</td><td>Historical Area          </td><td>933000</td><td>356000</td><td>1997</td><td>1997</td><td>3584.32</td><td>49.283706409518146</td><td> -123.10369848504855</td></tr>\n",
       "\t<tr><td>STRATA</td><td>59011894</td><td>Comprehensive Development</td><td>285000</td><td> 76800</td><td>1999</td><td>2000</td><td>3372.27</td><td>49.28795342891571 </td><td> -123.12082069797775</td></tr>\n",
       "</tbody>\n",
       "</table>\n"
      ],
      "text/latex": [
       "A tibble: 6 × 10\n",
       "\\begin{tabular}{llllllllll}\n",
       " LEGAL\\_TYPE & LAND\\_COORDINATE & ZONING\\_CLASSIFICATION & CURRENT\\_LAND\\_VALUE & CURRENT\\_IMPROVEMENT\\_VALUE & YEAR\\_BUILT & BIG\\_IMPROVEMENT\\_YEAR & TAX\\_LEVY & lat & long\\\\\n",
       " <chr> & <chr> & <chr> & <dbl> & <dbl> & <dbl> & <dbl> & <dbl> & <chr> & <chr>\\\\\n",
       "\\hline\n",
       "\t STRATA & 77019103 & Commercial                & 496282 & 240000 & 1996 & 1996 & 2047.38 & 49.26333024794667  &  -123.09938095630145\\\\\n",
       "\t STRATA & 59623596 & Multiple Dwelling         & 553000 &  49800 & 1977 & 1977 & 1676.20 & 49.27822295440411  &  -123.07086779777211\\\\\n",
       "\t STRATA & 59225072 & Multiple Dwelling         & 280000 &  40800 & 1981 & 1981 &  892.04 & 49.28000735957126  &  -123.06899069724635\\\\\n",
       "\t STRATA & 59711728 & Comprehensive Development & 610000 & 277000 & 1995 & 1995 & 2466.49 & 49.28823994952549  &  -123.12534105465522\\\\\n",
       "\t STRATA & 57917821 & Historical Area           & 933000 & 356000 & 1997 & 1997 & 3584.32 & 49.283706409518146 &  -123.10369848504855\\\\\n",
       "\t STRATA & 59011894 & Comprehensive Development & 285000 &  76800 & 1999 & 2000 & 3372.27 & 49.28795342891571  &  -123.12082069797775\\\\\n",
       "\\end{tabular}\n"
      ],
      "text/markdown": [
       "\n",
       "A tibble: 6 × 10\n",
       "\n",
       "| LEGAL_TYPE &lt;chr&gt; | LAND_COORDINATE &lt;chr&gt; | ZONING_CLASSIFICATION &lt;chr&gt; | CURRENT_LAND_VALUE &lt;dbl&gt; | CURRENT_IMPROVEMENT_VALUE &lt;dbl&gt; | YEAR_BUILT &lt;dbl&gt; | BIG_IMPROVEMENT_YEAR &lt;dbl&gt; | TAX_LEVY &lt;dbl&gt; | lat &lt;chr&gt; | long &lt;chr&gt; |\n",
       "|---|---|---|---|---|---|---|---|---|---|\n",
       "| STRATA | 77019103 | Commercial                | 496282 | 240000 | 1996 | 1996 | 2047.38 | 49.26333024794667  |  -123.09938095630145 |\n",
       "| STRATA | 59623596 | Multiple Dwelling         | 553000 |  49800 | 1977 | 1977 | 1676.20 | 49.27822295440411  |  -123.07086779777211 |\n",
       "| STRATA | 59225072 | Multiple Dwelling         | 280000 |  40800 | 1981 | 1981 |  892.04 | 49.28000735957126  |  -123.06899069724635 |\n",
       "| STRATA | 59711728 | Comprehensive Development | 610000 | 277000 | 1995 | 1995 | 2466.49 | 49.28823994952549  |  -123.12534105465522 |\n",
       "| STRATA | 57917821 | Historical Area           | 933000 | 356000 | 1997 | 1997 | 3584.32 | 49.283706409518146 |  -123.10369848504855 |\n",
       "| STRATA | 59011894 | Comprehensive Development | 285000 |  76800 | 1999 | 2000 | 3372.27 | 49.28795342891571  |  -123.12082069797775 |\n",
       "\n"
      ],
      "text/plain": [
       "  LEGAL_TYPE LAND_COORDINATE ZONING_CLASSIFICATION     CURRENT_LAND_VALUE\n",
       "1 STRATA     77019103        Commercial                496282            \n",
       "2 STRATA     59623596        Multiple Dwelling         553000            \n",
       "3 STRATA     59225072        Multiple Dwelling         280000            \n",
       "4 STRATA     59711728        Comprehensive Development 610000            \n",
       "5 STRATA     57917821        Historical Area           933000            \n",
       "6 STRATA     59011894        Comprehensive Development 285000            \n",
       "  CURRENT_IMPROVEMENT_VALUE YEAR_BUILT BIG_IMPROVEMENT_YEAR TAX_LEVY\n",
       "1 240000                    1996       1996                 2047.38 \n",
       "2  49800                    1977       1977                 1676.20 \n",
       "3  40800                    1981       1981                  892.04 \n",
       "4 277000                    1995       1995                 2466.49 \n",
       "5 356000                    1997       1997                 3584.32 \n",
       "6  76800                    1999       2000                 3372.27 \n",
       "  lat                long                \n",
       "1 49.26333024794667   -123.09938095630145\n",
       "2 49.27822295440411   -123.07086779777211\n",
       "3 49.28000735957126   -123.06899069724635\n",
       "4 49.28823994952549   -123.12534105465522\n",
       "5 49.283706409518146  -123.10369848504855\n",
       "6 49.28795342891571   -123.12082069797775"
      ]
     },
     "metadata": {},
     "output_type": "display_data"
    }
   ],
   "source": [
    "head(ptax_parcel_merged)"
   ]
  },
  {
   "cell_type": "code",
   "execution_count": 27,
   "id": "64e62108-ba03-4632-a68d-f91f6296e859",
   "metadata": {},
   "outputs": [
    {
     "name": "stderr",
     "output_type": "stream",
     "text": [
      "Warning message in ZONING_CLASSIFICATION == c(\"Comprehensive Development\", \"Single Detached House\", :\n",
      "“longer object length is not a multiple of shorter object length”\n"
     ]
    },
    {
     "data": {
      "text/html": [
       "<table class=\"dataframe\">\n",
       "<caption>A tibble: 3 × 2</caption>\n",
       "<thead>\n",
       "\t<tr><th scope=col>ZONING_CLASSIFICATION</th><th scope=col>COUNT</th></tr>\n",
       "\t<tr><th scope=col>&lt;chr&gt;</th><th scope=col>&lt;int&gt;</th></tr>\n",
       "</thead>\n",
       "<tbody>\n",
       "\t<tr><td>Comprehensive Development</td><td>20572</td></tr>\n",
       "\t<tr><td>Multiple Dwelling        </td><td> 7952</td></tr>\n",
       "\t<tr><td>Single Detached House    </td><td>17056</td></tr>\n",
       "</tbody>\n",
       "</table>\n"
      ],
      "text/latex": [
       "A tibble: 3 × 2\n",
       "\\begin{tabular}{ll}\n",
       " ZONING\\_CLASSIFICATION & COUNT\\\\\n",
       " <chr> & <int>\\\\\n",
       "\\hline\n",
       "\t Comprehensive Development & 20572\\\\\n",
       "\t Multiple Dwelling         &  7952\\\\\n",
       "\t Single Detached House     & 17056\\\\\n",
       "\\end{tabular}\n"
      ],
      "text/markdown": [
       "\n",
       "A tibble: 3 × 2\n",
       "\n",
       "| ZONING_CLASSIFICATION &lt;chr&gt; | COUNT &lt;int&gt; |\n",
       "|---|---|\n",
       "| Comprehensive Development | 20572 |\n",
       "| Multiple Dwelling         |  7952 |\n",
       "| Single Detached House     | 17056 |\n",
       "\n"
      ],
      "text/plain": [
       "  ZONING_CLASSIFICATION     COUNT\n",
       "1 Comprehensive Development 20572\n",
       "2 Multiple Dwelling          7952\n",
       "3 Single Detached House     17056"
      ]
     },
     "metadata": {},
     "output_type": "display_data"
    }
   ],
   "source": [
    "#filter for housing properties \n",
    "property_housing_only <- ptax_parcel_merged |>\n",
    "    filter(ZONING_CLASSIFICATION == c(\"Comprehensive Development\",\n",
    "                                      \"Single Detached House\",\n",
    "                                      \"Multiple Dwelling\"))\n",
    "\n",
    "#making the training and testing sets\n",
    "property_split <- initial_split(property_housing_only, prop = 0.75, strata = CURRENT_LAND_VALUE)\n",
    "property_train <- training(property_split)\n",
    "property_test <- testing(property_split)\n",
    "\n",
    "#summary table counting each housing type\n",
    "property_summ_table <- property_train |>\n",
    "    group_by(ZONING_CLASSIFICATION) |>\n",
    "    summarize(COUNT = n())\n",
    "property_summ_table"
   ]
  },
  {
   "cell_type": "code",
   "execution_count": null,
   "id": "f2b28764-cc4a-410b-86f8-8df9391a9d7c",
   "metadata": {},
   "outputs": [],
   "source": []
  }
 ],
 "metadata": {
  "kernelspec": {
   "display_name": "R",
   "language": "R",
   "name": "ir"
  },
  "language_info": {
   "codemirror_mode": "r",
   "file_extension": ".r",
   "mimetype": "text/x-r-source",
   "name": "R",
   "pygments_lexer": "r",
   "version": "4.1.3"
  }
 },
 "nbformat": 4,
 "nbformat_minor": 5
}
