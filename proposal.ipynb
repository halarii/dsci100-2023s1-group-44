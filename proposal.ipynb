{
 "cells": [
  {
   "cell_type": "markdown",
   "id": "f6357141-f31f-4881-82b0-8642af5d84bd",
   "metadata": {},
   "source": [
    "INSERT INTRO HERE"
   ]
  },
  {
   "cell_type": "code",
   "execution_count": null,
   "id": "295b6168-d9b1-4139-93c5-a4ef734d83cc",
   "metadata": {},
   "outputs": [],
   "source": [
    "library(tidyverse)\n",
    "\n",
    "## 2023 CoV Property Tax Report Dataset\n",
    "ptax_url <- \"https://opendata.vancouver.ca/api/explore/v2.1/catalog/datasets/property-tax-report/exports/csv?lang=en&refine=report_year%3A%222023%22&timezone=America%2FLos_Angeles&use_labels=true&delimiter=%3B\"\n",
    "ptax_df <- read_delim(ptax_url, delim = \";\") |>\n",
    "            # Select relevant features for analysis\n",
    "            select(LEGAL_TYPE,\n",
    "                   LAND_COORDINATE, \n",
    "                   CURRENT_LAND_VALUE,\n",
    "                   CURRENT_IMPROVEMENT_VALUE,\n",
    "                   YEAR_BUILT,\n",
    "                   BIG_IMPROVEMENT_YEAR,\n",
    "                   TAX_LEVY)\n",
    "\n",
    "## CoV Property Parcel Polygons Dataset\n",
    "# For use with 2023 CoV Property Tax Report Dataset to merge geographic location values\n",
    "\n",
    "parcel_url <- \"https://opendata.vancouver.ca/api/explore/v2.1/catalog/datasets/property-parcel-polygons/exports/csv?lang=en&timezone=America%2FLos_Angeles&use_labels=true&delimiter=%3B\"\n",
    "parcel_df <- read_delim(parcel_url, delim = \";\") |>\n",
    "            # Select relevant features for analysis\n",
    "            select(TAX_COORD, geo_point_2d) |>\n",
    "            rename(LAND_COORDINATE = TAX_COORD)\n",
    "\n",
    "# Merge CoV Property Parcel Polygons Dataset to attain geographic (lat,long) location of property\n",
    "ptax_df_merged <- inner_join(ptax_df, parcel_df, by = \"LAND_COORDINATE\", relationship = \"many-to-many\") |>\n",
    "# Separate (lat,long) into respective columns\n",
    "            separate(col = geo_point_2d,\n",
    "                     into = c(\"lat\", \"long\"),\n",
    "                     sep = \",\")"
   ]
  }
 ],
 "metadata": {
  "kernelspec": {
   "display_name": "R",
   "language": "R",
   "name": "ir"
  },
  "language_info": {
   "codemirror_mode": "r",
   "file_extension": ".r",
   "mimetype": "text/x-r-source",
   "name": "R",
   "pygments_lexer": "r",
   "version": "4.1.3"
  }
 },
 "nbformat": 4,
 "nbformat_minor": 5
}
